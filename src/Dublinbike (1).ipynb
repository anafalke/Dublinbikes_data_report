{
  "nbformat": 4,
  "nbformat_minor": 0,
  "metadata": {
    "colab": {
      "provenance": []
    },
    "kernelspec": {
      "name": "python3",
      "display_name": "Python 3"
    },
    "language_info": {
      "name": "python"
    }
  },
  "cells": [
    {
      "cell_type": "markdown",
      "source": [
        "First Section: Data cleaning and transformation"
      ],
      "metadata": {
        "id": "OqCJ95F-TSkI"
      }
    },
    {
      "cell_type": "code",
      "source": [
        "import pandas as pd\n",
        "import numpy as np\n",
        "import io\n",
        "from functools import reduce\n",
        "from google.colab import files"
      ],
      "metadata": {
        "id": "UsB-U5ihGcKQ"
      },
      "execution_count": null,
      "outputs": []
    },
    {
      "cell_type": "code",
      "source": [
        "uploaded = files.upload()\n",
        "df = pd.read_csv(io.BytesIO(uploaded['dublinbikes_Julho2021.csv']))\n",
        "#First code is to upload cvs file."
      ],
      "metadata": {
        "id": "yFEMxvlJGiz1",
        "colab": {
          "base_uri": "https://localhost:8080/",
          "height": 78
        },
        "outputId": "be795960-c1e8-4a97-c7f3-54afee980683"
      },
      "execution_count": null,
      "outputs": [
        {
          "output_type": "display_data",
          "data": {
            "text/plain": [
              "<IPython.core.display.HTML object>"
            ],
            "text/html": [
              "\n",
              "     <input type=\"file\" id=\"files-efba9882-18aa-4ff0-a9b3-a041a966a427\" name=\"files[]\" multiple disabled\n",
              "        style=\"border:none\" />\n",
              "     <output id=\"result-efba9882-18aa-4ff0-a9b3-a041a966a427\">\n",
              "      Upload widget is only available when the cell has been executed in the\n",
              "      current browser session. Please rerun this cell to enable.\n",
              "      </output>\n",
              "      <script>// Copyright 2017 Google LLC\n",
              "//\n",
              "// Licensed under the Apache License, Version 2.0 (the \"License\");\n",
              "// you may not use this file except in compliance with the License.\n",
              "// You may obtain a copy of the License at\n",
              "//\n",
              "//      http://www.apache.org/licenses/LICENSE-2.0\n",
              "//\n",
              "// Unless required by applicable law or agreed to in writing, software\n",
              "// distributed under the License is distributed on an \"AS IS\" BASIS,\n",
              "// WITHOUT WARRANTIES OR CONDITIONS OF ANY KIND, either express or implied.\n",
              "// See the License for the specific language governing permissions and\n",
              "// limitations under the License.\n",
              "\n",
              "/**\n",
              " * @fileoverview Helpers for google.colab Python module.\n",
              " */\n",
              "(function(scope) {\n",
              "function span(text, styleAttributes = {}) {\n",
              "  const element = document.createElement('span');\n",
              "  element.textContent = text;\n",
              "  for (const key of Object.keys(styleAttributes)) {\n",
              "    element.style[key] = styleAttributes[key];\n",
              "  }\n",
              "  return element;\n",
              "}\n",
              "\n",
              "// Max number of bytes which will be uploaded at a time.\n",
              "const MAX_PAYLOAD_SIZE = 100 * 1024;\n",
              "\n",
              "function _uploadFiles(inputId, outputId) {\n",
              "  const steps = uploadFilesStep(inputId, outputId);\n",
              "  const outputElement = document.getElementById(outputId);\n",
              "  // Cache steps on the outputElement to make it available for the next call\n",
              "  // to uploadFilesContinue from Python.\n",
              "  outputElement.steps = steps;\n",
              "\n",
              "  return _uploadFilesContinue(outputId);\n",
              "}\n",
              "\n",
              "// This is roughly an async generator (not supported in the browser yet),\n",
              "// where there are multiple asynchronous steps and the Python side is going\n",
              "// to poll for completion of each step.\n",
              "// This uses a Promise to block the python side on completion of each step,\n",
              "// then passes the result of the previous step as the input to the next step.\n",
              "function _uploadFilesContinue(outputId) {\n",
              "  const outputElement = document.getElementById(outputId);\n",
              "  const steps = outputElement.steps;\n",
              "\n",
              "  const next = steps.next(outputElement.lastPromiseValue);\n",
              "  return Promise.resolve(next.value.promise).then((value) => {\n",
              "    // Cache the last promise value to make it available to the next\n",
              "    // step of the generator.\n",
              "    outputElement.lastPromiseValue = value;\n",
              "    return next.value.response;\n",
              "  });\n",
              "}\n",
              "\n",
              "/**\n",
              " * Generator function which is called between each async step of the upload\n",
              " * process.\n",
              " * @param {string} inputId Element ID of the input file picker element.\n",
              " * @param {string} outputId Element ID of the output display.\n",
              " * @return {!Iterable<!Object>} Iterable of next steps.\n",
              " */\n",
              "function* uploadFilesStep(inputId, outputId) {\n",
              "  const inputElement = document.getElementById(inputId);\n",
              "  inputElement.disabled = false;\n",
              "\n",
              "  const outputElement = document.getElementById(outputId);\n",
              "  outputElement.innerHTML = '';\n",
              "\n",
              "  const pickedPromise = new Promise((resolve) => {\n",
              "    inputElement.addEventListener('change', (e) => {\n",
              "      resolve(e.target.files);\n",
              "    });\n",
              "  });\n",
              "\n",
              "  const cancel = document.createElement('button');\n",
              "  inputElement.parentElement.appendChild(cancel);\n",
              "  cancel.textContent = 'Cancel upload';\n",
              "  const cancelPromise = new Promise((resolve) => {\n",
              "    cancel.onclick = () => {\n",
              "      resolve(null);\n",
              "    };\n",
              "  });\n",
              "\n",
              "  // Wait for the user to pick the files.\n",
              "  const files = yield {\n",
              "    promise: Promise.race([pickedPromise, cancelPromise]),\n",
              "    response: {\n",
              "      action: 'starting',\n",
              "    }\n",
              "  };\n",
              "\n",
              "  cancel.remove();\n",
              "\n",
              "  // Disable the input element since further picks are not allowed.\n",
              "  inputElement.disabled = true;\n",
              "\n",
              "  if (!files) {\n",
              "    return {\n",
              "      response: {\n",
              "        action: 'complete',\n",
              "      }\n",
              "    };\n",
              "  }\n",
              "\n",
              "  for (const file of files) {\n",
              "    const li = document.createElement('li');\n",
              "    li.append(span(file.name, {fontWeight: 'bold'}));\n",
              "    li.append(span(\n",
              "        `(${file.type || 'n/a'}) - ${file.size} bytes, ` +\n",
              "        `last modified: ${\n",
              "            file.lastModifiedDate ? file.lastModifiedDate.toLocaleDateString() :\n",
              "                                    'n/a'} - `));\n",
              "    const percent = span('0% done');\n",
              "    li.appendChild(percent);\n",
              "\n",
              "    outputElement.appendChild(li);\n",
              "\n",
              "    const fileDataPromise = new Promise((resolve) => {\n",
              "      const reader = new FileReader();\n",
              "      reader.onload = (e) => {\n",
              "        resolve(e.target.result);\n",
              "      };\n",
              "      reader.readAsArrayBuffer(file);\n",
              "    });\n",
              "    // Wait for the data to be ready.\n",
              "    let fileData = yield {\n",
              "      promise: fileDataPromise,\n",
              "      response: {\n",
              "        action: 'continue',\n",
              "      }\n",
              "    };\n",
              "\n",
              "    // Use a chunked sending to avoid message size limits. See b/62115660.\n",
              "    let position = 0;\n",
              "    do {\n",
              "      const length = Math.min(fileData.byteLength - position, MAX_PAYLOAD_SIZE);\n",
              "      const chunk = new Uint8Array(fileData, position, length);\n",
              "      position += length;\n",
              "\n",
              "      const base64 = btoa(String.fromCharCode.apply(null, chunk));\n",
              "      yield {\n",
              "        response: {\n",
              "          action: 'append',\n",
              "          file: file.name,\n",
              "          data: base64,\n",
              "        },\n",
              "      };\n",
              "\n",
              "      let percentDone = fileData.byteLength === 0 ?\n",
              "          100 :\n",
              "          Math.round((position / fileData.byteLength) * 100);\n",
              "      percent.textContent = `${percentDone}% done`;\n",
              "\n",
              "    } while (position < fileData.byteLength);\n",
              "  }\n",
              "\n",
              "  // All done.\n",
              "  yield {\n",
              "    response: {\n",
              "      action: 'complete',\n",
              "    }\n",
              "  };\n",
              "}\n",
              "\n",
              "scope.google = scope.google || {};\n",
              "scope.google.colab = scope.google.colab || {};\n",
              "scope.google.colab._files = {\n",
              "  _uploadFiles,\n",
              "  _uploadFilesContinue,\n",
              "};\n",
              "})(self);\n",
              "</script> "
            ]
          },
          "metadata": {}
        },
        {
          "output_type": "stream",
          "name": "stdout",
          "text": [
            "Saving dublinbikes_Julho2021.csv to dublinbikes_Julho2021.csv\n"
          ]
        }
      ]
    },
    {
      "cell_type": "code",
      "source": [
        "url='https://drive.google.com/file/d/1FEBsge6LmQydWOGzmfGwJzatu6AFOVC9/view?usp=sharing'\n",
        "url='https://drive.google.com/uc?id=' + url.split('/')[-2]\n",
        "df = pd.read_csv(url)\n",
        "#Second code is to access content through URL instead of upload cvs file."
      ],
      "metadata": {
        "id": "JfUmGiT3LL-p"
      },
      "execution_count": null,
      "outputs": []
    },
    {
      "cell_type": "code",
      "source": [
        "df = df.dropna()\n",
        "df"
      ],
      "metadata": {
        "id": "ESsVhJJoKVej",
        "colab": {
          "base_uri": "https://localhost:8080/",
          "height": 424
        },
        "outputId": "9161376b-cd21-4204-83c9-51d43a279c62"
      },
      "execution_count": null,
      "outputs": [
        {
          "output_type": "execute_result",
          "data": {
            "text/plain": [
              "        STATION ID              TIME      LAST UPDATED                NAME  \\\n",
              "0              2.0  01/07/2021 00:00  30/06/2021 23:50  BLESSINGTON STREET   \n",
              "1              2.0  01/07/2021 00:05  01/07/2021 00:00  BLESSINGTON STREET   \n",
              "2              2.0  01/07/2021 00:10  01/07/2021 00:00  BLESSINGTON STREET   \n",
              "3              2.0  01/07/2021 00:15  01/07/2021 00:10  BLESSINGTON STREET   \n",
              "4              2.0  01/07/2021 00:20  01/07/2021 00:10  BLESSINGTON STREET   \n",
              "...            ...               ...               ...                 ...   \n",
              "922312       117.0  31/07/2021 23:35  31/07/2021 23:29   HANOVER QUAY EAST   \n",
              "922313       117.0  31/07/2021 23:40  31/07/2021 23:39   HANOVER QUAY EAST   \n",
              "922314       117.0  31/07/2021 23:45  31/07/2021 23:39   HANOVER QUAY EAST   \n",
              "922315       117.0  31/07/2021 23:50  31/07/2021 23:39   HANOVER QUAY EAST   \n",
              "922316       117.0  31/07/2021 23:55  31/07/2021 23:49   HANOVER QUAY EAST   \n",
              "\n",
              "        BIKE STANDS  AVAILABLE BIKE STANDS  AVAILABLE BIKES STATUS  \\\n",
              "0              20.0                   15.0              5.0   Open   \n",
              "1              20.0                   15.0              5.0   Open   \n",
              "2              20.0                   15.0              5.0   Open   \n",
              "3              20.0                   15.0              5.0   Open   \n",
              "4              20.0                   15.0              5.0   Open   \n",
              "...             ...                    ...              ...    ...   \n",
              "922312         40.0                   38.0              2.0   Open   \n",
              "922313         40.0                   38.0              2.0   Open   \n",
              "922314         40.0                   38.0              2.0   Open   \n",
              "922315         40.0                   38.0              2.0   Open   \n",
              "922316         40.0                   38.0              2.0   Open   \n",
              "\n",
              "                   ADDRESS   LATITUDE  LONGITUDE  \n",
              "0       Blessington Street  53.356770  -6.268140  \n",
              "1       Blessington Street  53.356770  -6.268140  \n",
              "2       Blessington Street  53.356770  -6.268140  \n",
              "3       Blessington Street  53.356770  -6.268140  \n",
              "4       Blessington Street  53.356770  -6.268140  \n",
              "...                    ...        ...        ...  \n",
              "922312   Hanover Quay East  53.343655  -6.231755  \n",
              "922313   Hanover Quay East  53.343655  -6.231755  \n",
              "922314   Hanover Quay East  53.343655  -6.231755  \n",
              "922315   Hanover Quay East  53.343655  -6.231755  \n",
              "922316   Hanover Quay East  53.343655  -6.231755  \n",
              "\n",
              "[922317 rows x 11 columns]"
            ],
            "text/html": [
              "\n",
              "  <div id=\"df-b2b27db9-f836-422d-9345-cd90d05fa634\">\n",
              "    <div class=\"colab-df-container\">\n",
              "      <div>\n",
              "<style scoped>\n",
              "    .dataframe tbody tr th:only-of-type {\n",
              "        vertical-align: middle;\n",
              "    }\n",
              "\n",
              "    .dataframe tbody tr th {\n",
              "        vertical-align: top;\n",
              "    }\n",
              "\n",
              "    .dataframe thead th {\n",
              "        text-align: right;\n",
              "    }\n",
              "</style>\n",
              "<table border=\"1\" class=\"dataframe\">\n",
              "  <thead>\n",
              "    <tr style=\"text-align: right;\">\n",
              "      <th></th>\n",
              "      <th>STATION ID</th>\n",
              "      <th>TIME</th>\n",
              "      <th>LAST UPDATED</th>\n",
              "      <th>NAME</th>\n",
              "      <th>BIKE STANDS</th>\n",
              "      <th>AVAILABLE BIKE STANDS</th>\n",
              "      <th>AVAILABLE BIKES</th>\n",
              "      <th>STATUS</th>\n",
              "      <th>ADDRESS</th>\n",
              "      <th>LATITUDE</th>\n",
              "      <th>LONGITUDE</th>\n",
              "    </tr>\n",
              "  </thead>\n",
              "  <tbody>\n",
              "    <tr>\n",
              "      <th>0</th>\n",
              "      <td>2.0</td>\n",
              "      <td>01/07/2021 00:00</td>\n",
              "      <td>30/06/2021 23:50</td>\n",
              "      <td>BLESSINGTON STREET</td>\n",
              "      <td>20.0</td>\n",
              "      <td>15.0</td>\n",
              "      <td>5.0</td>\n",
              "      <td>Open</td>\n",
              "      <td>Blessington Street</td>\n",
              "      <td>53.356770</td>\n",
              "      <td>-6.268140</td>\n",
              "    </tr>\n",
              "    <tr>\n",
              "      <th>1</th>\n",
              "      <td>2.0</td>\n",
              "      <td>01/07/2021 00:05</td>\n",
              "      <td>01/07/2021 00:00</td>\n",
              "      <td>BLESSINGTON STREET</td>\n",
              "      <td>20.0</td>\n",
              "      <td>15.0</td>\n",
              "      <td>5.0</td>\n",
              "      <td>Open</td>\n",
              "      <td>Blessington Street</td>\n",
              "      <td>53.356770</td>\n",
              "      <td>-6.268140</td>\n",
              "    </tr>\n",
              "    <tr>\n",
              "      <th>2</th>\n",
              "      <td>2.0</td>\n",
              "      <td>01/07/2021 00:10</td>\n",
              "      <td>01/07/2021 00:00</td>\n",
              "      <td>BLESSINGTON STREET</td>\n",
              "      <td>20.0</td>\n",
              "      <td>15.0</td>\n",
              "      <td>5.0</td>\n",
              "      <td>Open</td>\n",
              "      <td>Blessington Street</td>\n",
              "      <td>53.356770</td>\n",
              "      <td>-6.268140</td>\n",
              "    </tr>\n",
              "    <tr>\n",
              "      <th>3</th>\n",
              "      <td>2.0</td>\n",
              "      <td>01/07/2021 00:15</td>\n",
              "      <td>01/07/2021 00:10</td>\n",
              "      <td>BLESSINGTON STREET</td>\n",
              "      <td>20.0</td>\n",
              "      <td>15.0</td>\n",
              "      <td>5.0</td>\n",
              "      <td>Open</td>\n",
              "      <td>Blessington Street</td>\n",
              "      <td>53.356770</td>\n",
              "      <td>-6.268140</td>\n",
              "    </tr>\n",
              "    <tr>\n",
              "      <th>4</th>\n",
              "      <td>2.0</td>\n",
              "      <td>01/07/2021 00:20</td>\n",
              "      <td>01/07/2021 00:10</td>\n",
              "      <td>BLESSINGTON STREET</td>\n",
              "      <td>20.0</td>\n",
              "      <td>15.0</td>\n",
              "      <td>5.0</td>\n",
              "      <td>Open</td>\n",
              "      <td>Blessington Street</td>\n",
              "      <td>53.356770</td>\n",
              "      <td>-6.268140</td>\n",
              "    </tr>\n",
              "    <tr>\n",
              "      <th>...</th>\n",
              "      <td>...</td>\n",
              "      <td>...</td>\n",
              "      <td>...</td>\n",
              "      <td>...</td>\n",
              "      <td>...</td>\n",
              "      <td>...</td>\n",
              "      <td>...</td>\n",
              "      <td>...</td>\n",
              "      <td>...</td>\n",
              "      <td>...</td>\n",
              "      <td>...</td>\n",
              "    </tr>\n",
              "    <tr>\n",
              "      <th>922312</th>\n",
              "      <td>117.0</td>\n",
              "      <td>31/07/2021 23:35</td>\n",
              "      <td>31/07/2021 23:29</td>\n",
              "      <td>HANOVER QUAY EAST</td>\n",
              "      <td>40.0</td>\n",
              "      <td>38.0</td>\n",
              "      <td>2.0</td>\n",
              "      <td>Open</td>\n",
              "      <td>Hanover Quay East</td>\n",
              "      <td>53.343655</td>\n",
              "      <td>-6.231755</td>\n",
              "    </tr>\n",
              "    <tr>\n",
              "      <th>922313</th>\n",
              "      <td>117.0</td>\n",
              "      <td>31/07/2021 23:40</td>\n",
              "      <td>31/07/2021 23:39</td>\n",
              "      <td>HANOVER QUAY EAST</td>\n",
              "      <td>40.0</td>\n",
              "      <td>38.0</td>\n",
              "      <td>2.0</td>\n",
              "      <td>Open</td>\n",
              "      <td>Hanover Quay East</td>\n",
              "      <td>53.343655</td>\n",
              "      <td>-6.231755</td>\n",
              "    </tr>\n",
              "    <tr>\n",
              "      <th>922314</th>\n",
              "      <td>117.0</td>\n",
              "      <td>31/07/2021 23:45</td>\n",
              "      <td>31/07/2021 23:39</td>\n",
              "      <td>HANOVER QUAY EAST</td>\n",
              "      <td>40.0</td>\n",
              "      <td>38.0</td>\n",
              "      <td>2.0</td>\n",
              "      <td>Open</td>\n",
              "      <td>Hanover Quay East</td>\n",
              "      <td>53.343655</td>\n",
              "      <td>-6.231755</td>\n",
              "    </tr>\n",
              "    <tr>\n",
              "      <th>922315</th>\n",
              "      <td>117.0</td>\n",
              "      <td>31/07/2021 23:50</td>\n",
              "      <td>31/07/2021 23:39</td>\n",
              "      <td>HANOVER QUAY EAST</td>\n",
              "      <td>40.0</td>\n",
              "      <td>38.0</td>\n",
              "      <td>2.0</td>\n",
              "      <td>Open</td>\n",
              "      <td>Hanover Quay East</td>\n",
              "      <td>53.343655</td>\n",
              "      <td>-6.231755</td>\n",
              "    </tr>\n",
              "    <tr>\n",
              "      <th>922316</th>\n",
              "      <td>117.0</td>\n",
              "      <td>31/07/2021 23:55</td>\n",
              "      <td>31/07/2021 23:49</td>\n",
              "      <td>HANOVER QUAY EAST</td>\n",
              "      <td>40.0</td>\n",
              "      <td>38.0</td>\n",
              "      <td>2.0</td>\n",
              "      <td>Open</td>\n",
              "      <td>Hanover Quay East</td>\n",
              "      <td>53.343655</td>\n",
              "      <td>-6.231755</td>\n",
              "    </tr>\n",
              "  </tbody>\n",
              "</table>\n",
              "<p>922317 rows × 11 columns</p>\n",
              "</div>\n",
              "      <button class=\"colab-df-convert\" onclick=\"convertToInteractive('df-b2b27db9-f836-422d-9345-cd90d05fa634')\"\n",
              "              title=\"Convert this dataframe to an interactive table.\"\n",
              "              style=\"display:none;\">\n",
              "        \n",
              "  <svg xmlns=\"http://www.w3.org/2000/svg\" height=\"24px\"viewBox=\"0 0 24 24\"\n",
              "       width=\"24px\">\n",
              "    <path d=\"M0 0h24v24H0V0z\" fill=\"none\"/>\n",
              "    <path d=\"M18.56 5.44l.94 2.06.94-2.06 2.06-.94-2.06-.94-.94-2.06-.94 2.06-2.06.94zm-11 1L8.5 8.5l.94-2.06 2.06-.94-2.06-.94L8.5 2.5l-.94 2.06-2.06.94zm10 10l.94 2.06.94-2.06 2.06-.94-2.06-.94-.94-2.06-.94 2.06-2.06.94z\"/><path d=\"M17.41 7.96l-1.37-1.37c-.4-.4-.92-.59-1.43-.59-.52 0-1.04.2-1.43.59L10.3 9.45l-7.72 7.72c-.78.78-.78 2.05 0 2.83L4 21.41c.39.39.9.59 1.41.59.51 0 1.02-.2 1.41-.59l7.78-7.78 2.81-2.81c.8-.78.8-2.07 0-2.86zM5.41 20L4 18.59l7.72-7.72 1.47 1.35L5.41 20z\"/>\n",
              "  </svg>\n",
              "      </button>\n",
              "      \n",
              "  <style>\n",
              "    .colab-df-container {\n",
              "      display:flex;\n",
              "      flex-wrap:wrap;\n",
              "      gap: 12px;\n",
              "    }\n",
              "\n",
              "    .colab-df-convert {\n",
              "      background-color: #E8F0FE;\n",
              "      border: none;\n",
              "      border-radius: 50%;\n",
              "      cursor: pointer;\n",
              "      display: none;\n",
              "      fill: #1967D2;\n",
              "      height: 32px;\n",
              "      padding: 0 0 0 0;\n",
              "      width: 32px;\n",
              "    }\n",
              "\n",
              "    .colab-df-convert:hover {\n",
              "      background-color: #E2EBFA;\n",
              "      box-shadow: 0px 1px 2px rgba(60, 64, 67, 0.3), 0px 1px 3px 1px rgba(60, 64, 67, 0.15);\n",
              "      fill: #174EA6;\n",
              "    }\n",
              "\n",
              "    [theme=dark] .colab-df-convert {\n",
              "      background-color: #3B4455;\n",
              "      fill: #D2E3FC;\n",
              "    }\n",
              "\n",
              "    [theme=dark] .colab-df-convert:hover {\n",
              "      background-color: #434B5C;\n",
              "      box-shadow: 0px 1px 3px 1px rgba(0, 0, 0, 0.15);\n",
              "      filter: drop-shadow(0px 1px 2px rgba(0, 0, 0, 0.3));\n",
              "      fill: #FFFFFF;\n",
              "    }\n",
              "  </style>\n",
              "\n",
              "      <script>\n",
              "        const buttonEl =\n",
              "          document.querySelector('#df-b2b27db9-f836-422d-9345-cd90d05fa634 button.colab-df-convert');\n",
              "        buttonEl.style.display =\n",
              "          google.colab.kernel.accessAllowed ? 'block' : 'none';\n",
              "\n",
              "        async function convertToInteractive(key) {\n",
              "          const element = document.querySelector('#df-b2b27db9-f836-422d-9345-cd90d05fa634');\n",
              "          const dataTable =\n",
              "            await google.colab.kernel.invokeFunction('convertToInteractive',\n",
              "                                                     [key], {});\n",
              "          if (!dataTable) return;\n",
              "\n",
              "          const docLinkHtml = 'Like what you see? Visit the ' +\n",
              "            '<a target=\"_blank\" href=https://colab.research.google.com/notebooks/data_table.ipynb>data table notebook</a>'\n",
              "            + ' to learn more about interactive tables.';\n",
              "          element.innerHTML = '';\n",
              "          dataTable['output_type'] = 'display_data';\n",
              "          await google.colab.output.renderOutput(dataTable, element);\n",
              "          const docLink = document.createElement('div');\n",
              "          docLink.innerHTML = docLinkHtml;\n",
              "          element.appendChild(docLink);\n",
              "        }\n",
              "      </script>\n",
              "    </div>\n",
              "  </div>\n",
              "  "
            ]
          },
          "metadata": {},
          "execution_count": 3
        }
      ]
    },
    {
      "cell_type": "code",
      "source": [
        "df.dtypes"
      ],
      "metadata": {
        "id": "vY4RAqAALft3"
      },
      "execution_count": null,
      "outputs": []
    },
    {
      "cell_type": "code",
      "source": [
        "df['STATION ID'].unique() #Verified the numbers of Dublin Bike stations ID"
      ],
      "metadata": {
        "id": "ciRtGH7wuiBl"
      },
      "execution_count": null,
      "outputs": []
    },
    {
      "cell_type": "code",
      "source": [
        "df['NAME'].unique() #Verified where Dublin Bike stations are located in Dublin City"
      ],
      "metadata": {
        "id": "sbHVBPmqvaz1"
      },
      "execution_count": null,
      "outputs": []
    },
    {
      "cell_type": "code",
      "source": [
        "df['ADDRESS'].unique() #Verified that table has duplicated values in a column"
      ],
      "metadata": {
        "id": "7xT8oXmbv0Y_"
      },
      "execution_count": null,
      "outputs": []
    },
    {
      "cell_type": "code",
      "source": [
        "df.groupby('STATION ID')[['ADDRESS','NAME']].max() #Verified that table has duplicated values in a column"
      ],
      "metadata": {
        "id": "PwzkIa7TwFxx"
      },
      "execution_count": null,
      "outputs": []
    },
    {
      "cell_type": "code",
      "source": [
        "#After investigation of duplicate values, droped Name column and Station Id\n",
        "to_drop_first = ['STATION ID', \n",
        "           'NAME']\n",
        "\n",
        "df.drop(to_drop_first, inplace = True, axis= 1)\n",
        "df.head()"
      ],
      "metadata": {
        "id": "YOUwkkl2yZGj",
        "colab": {
          "base_uri": "https://localhost:8080/",
          "height": 206
        },
        "outputId": "fd440876-95c1-4a24-f1a3-4e97086c9780"
      },
      "execution_count": null,
      "outputs": [
        {
          "output_type": "execute_result",
          "data": {
            "text/plain": [
              "               TIME      LAST UPDATED  BIKE STANDS  AVAILABLE BIKE STANDS  \\\n",
              "0  01/07/2021 00:00  30/06/2021 23:50         20.0                   15.0   \n",
              "1  01/07/2021 00:05  01/07/2021 00:00         20.0                   15.0   \n",
              "2  01/07/2021 00:10  01/07/2021 00:00         20.0                   15.0   \n",
              "3  01/07/2021 00:15  01/07/2021 00:10         20.0                   15.0   \n",
              "4  01/07/2021 00:20  01/07/2021 00:10         20.0                   15.0   \n",
              "\n",
              "   AVAILABLE BIKES STATUS             ADDRESS  LATITUDE  LONGITUDE  \n",
              "0              5.0   Open  Blessington Street  53.35677   -6.26814  \n",
              "1              5.0   Open  Blessington Street  53.35677   -6.26814  \n",
              "2              5.0   Open  Blessington Street  53.35677   -6.26814  \n",
              "3              5.0   Open  Blessington Street  53.35677   -6.26814  \n",
              "4              5.0   Open  Blessington Street  53.35677   -6.26814  "
            ],
            "text/html": [
              "\n",
              "  <div id=\"df-9b4f6a94-0f5b-46ce-9d7a-796f55f83c71\">\n",
              "    <div class=\"colab-df-container\">\n",
              "      <div>\n",
              "<style scoped>\n",
              "    .dataframe tbody tr th:only-of-type {\n",
              "        vertical-align: middle;\n",
              "    }\n",
              "\n",
              "    .dataframe tbody tr th {\n",
              "        vertical-align: top;\n",
              "    }\n",
              "\n",
              "    .dataframe thead th {\n",
              "        text-align: right;\n",
              "    }\n",
              "</style>\n",
              "<table border=\"1\" class=\"dataframe\">\n",
              "  <thead>\n",
              "    <tr style=\"text-align: right;\">\n",
              "      <th></th>\n",
              "      <th>TIME</th>\n",
              "      <th>LAST UPDATED</th>\n",
              "      <th>BIKE STANDS</th>\n",
              "      <th>AVAILABLE BIKE STANDS</th>\n",
              "      <th>AVAILABLE BIKES</th>\n",
              "      <th>STATUS</th>\n",
              "      <th>ADDRESS</th>\n",
              "      <th>LATITUDE</th>\n",
              "      <th>LONGITUDE</th>\n",
              "    </tr>\n",
              "  </thead>\n",
              "  <tbody>\n",
              "    <tr>\n",
              "      <th>0</th>\n",
              "      <td>01/07/2021 00:00</td>\n",
              "      <td>30/06/2021 23:50</td>\n",
              "      <td>20.0</td>\n",
              "      <td>15.0</td>\n",
              "      <td>5.0</td>\n",
              "      <td>Open</td>\n",
              "      <td>Blessington Street</td>\n",
              "      <td>53.35677</td>\n",
              "      <td>-6.26814</td>\n",
              "    </tr>\n",
              "    <tr>\n",
              "      <th>1</th>\n",
              "      <td>01/07/2021 00:05</td>\n",
              "      <td>01/07/2021 00:00</td>\n",
              "      <td>20.0</td>\n",
              "      <td>15.0</td>\n",
              "      <td>5.0</td>\n",
              "      <td>Open</td>\n",
              "      <td>Blessington Street</td>\n",
              "      <td>53.35677</td>\n",
              "      <td>-6.26814</td>\n",
              "    </tr>\n",
              "    <tr>\n",
              "      <th>2</th>\n",
              "      <td>01/07/2021 00:10</td>\n",
              "      <td>01/07/2021 00:00</td>\n",
              "      <td>20.0</td>\n",
              "      <td>15.0</td>\n",
              "      <td>5.0</td>\n",
              "      <td>Open</td>\n",
              "      <td>Blessington Street</td>\n",
              "      <td>53.35677</td>\n",
              "      <td>-6.26814</td>\n",
              "    </tr>\n",
              "    <tr>\n",
              "      <th>3</th>\n",
              "      <td>01/07/2021 00:15</td>\n",
              "      <td>01/07/2021 00:10</td>\n",
              "      <td>20.0</td>\n",
              "      <td>15.0</td>\n",
              "      <td>5.0</td>\n",
              "      <td>Open</td>\n",
              "      <td>Blessington Street</td>\n",
              "      <td>53.35677</td>\n",
              "      <td>-6.26814</td>\n",
              "    </tr>\n",
              "    <tr>\n",
              "      <th>4</th>\n",
              "      <td>01/07/2021 00:20</td>\n",
              "      <td>01/07/2021 00:10</td>\n",
              "      <td>20.0</td>\n",
              "      <td>15.0</td>\n",
              "      <td>5.0</td>\n",
              "      <td>Open</td>\n",
              "      <td>Blessington Street</td>\n",
              "      <td>53.35677</td>\n",
              "      <td>-6.26814</td>\n",
              "    </tr>\n",
              "  </tbody>\n",
              "</table>\n",
              "</div>\n",
              "      <button class=\"colab-df-convert\" onclick=\"convertToInteractive('df-9b4f6a94-0f5b-46ce-9d7a-796f55f83c71')\"\n",
              "              title=\"Convert this dataframe to an interactive table.\"\n",
              "              style=\"display:none;\">\n",
              "        \n",
              "  <svg xmlns=\"http://www.w3.org/2000/svg\" height=\"24px\"viewBox=\"0 0 24 24\"\n",
              "       width=\"24px\">\n",
              "    <path d=\"M0 0h24v24H0V0z\" fill=\"none\"/>\n",
              "    <path d=\"M18.56 5.44l.94 2.06.94-2.06 2.06-.94-2.06-.94-.94-2.06-.94 2.06-2.06.94zm-11 1L8.5 8.5l.94-2.06 2.06-.94-2.06-.94L8.5 2.5l-.94 2.06-2.06.94zm10 10l.94 2.06.94-2.06 2.06-.94-2.06-.94-.94-2.06-.94 2.06-2.06.94z\"/><path d=\"M17.41 7.96l-1.37-1.37c-.4-.4-.92-.59-1.43-.59-.52 0-1.04.2-1.43.59L10.3 9.45l-7.72 7.72c-.78.78-.78 2.05 0 2.83L4 21.41c.39.39.9.59 1.41.59.51 0 1.02-.2 1.41-.59l7.78-7.78 2.81-2.81c.8-.78.8-2.07 0-2.86zM5.41 20L4 18.59l7.72-7.72 1.47 1.35L5.41 20z\"/>\n",
              "  </svg>\n",
              "      </button>\n",
              "      \n",
              "  <style>\n",
              "    .colab-df-container {\n",
              "      display:flex;\n",
              "      flex-wrap:wrap;\n",
              "      gap: 12px;\n",
              "    }\n",
              "\n",
              "    .colab-df-convert {\n",
              "      background-color: #E8F0FE;\n",
              "      border: none;\n",
              "      border-radius: 50%;\n",
              "      cursor: pointer;\n",
              "      display: none;\n",
              "      fill: #1967D2;\n",
              "      height: 32px;\n",
              "      padding: 0 0 0 0;\n",
              "      width: 32px;\n",
              "    }\n",
              "\n",
              "    .colab-df-convert:hover {\n",
              "      background-color: #E2EBFA;\n",
              "      box-shadow: 0px 1px 2px rgba(60, 64, 67, 0.3), 0px 1px 3px 1px rgba(60, 64, 67, 0.15);\n",
              "      fill: #174EA6;\n",
              "    }\n",
              "\n",
              "    [theme=dark] .colab-df-convert {\n",
              "      background-color: #3B4455;\n",
              "      fill: #D2E3FC;\n",
              "    }\n",
              "\n",
              "    [theme=dark] .colab-df-convert:hover {\n",
              "      background-color: #434B5C;\n",
              "      box-shadow: 0px 1px 3px 1px rgba(0, 0, 0, 0.15);\n",
              "      filter: drop-shadow(0px 1px 2px rgba(0, 0, 0, 0.3));\n",
              "      fill: #FFFFFF;\n",
              "    }\n",
              "  </style>\n",
              "\n",
              "      <script>\n",
              "        const buttonEl =\n",
              "          document.querySelector('#df-9b4f6a94-0f5b-46ce-9d7a-796f55f83c71 button.colab-df-convert');\n",
              "        buttonEl.style.display =\n",
              "          google.colab.kernel.accessAllowed ? 'block' : 'none';\n",
              "\n",
              "        async function convertToInteractive(key) {\n",
              "          const element = document.querySelector('#df-9b4f6a94-0f5b-46ce-9d7a-796f55f83c71');\n",
              "          const dataTable =\n",
              "            await google.colab.kernel.invokeFunction('convertToInteractive',\n",
              "                                                     [key], {});\n",
              "          if (!dataTable) return;\n",
              "\n",
              "          const docLinkHtml = 'Like what you see? Visit the ' +\n",
              "            '<a target=\"_blank\" href=https://colab.research.google.com/notebooks/data_table.ipynb>data table notebook</a>'\n",
              "            + ' to learn more about interactive tables.';\n",
              "          element.innerHTML = '';\n",
              "          dataTable['output_type'] = 'display_data';\n",
              "          await google.colab.output.renderOutput(dataTable, element);\n",
              "          const docLink = document.createElement('div');\n",
              "          docLink.innerHTML = docLinkHtml;\n",
              "          element.appendChild(docLink);\n",
              "        }\n",
              "      </script>\n",
              "    </div>\n",
              "  </div>\n",
              "  "
            ]
          },
          "metadata": {},
          "execution_count": 4
        }
      ]
    },
    {
      "cell_type": "code",
      "source": [
        "#For cleaning purpose it was removed Latitude and Longititude as this data is necessary of this research\n",
        "to_drop_second = ['LATITUDE',\n",
        "           'LONGITUDE']\n",
        "\n",
        "df.drop(to_drop_second, inplace = True, axis = 1)"
      ],
      "metadata": {
        "id": "Ix6e3-Cjy7mJ"
      },
      "execution_count": null,
      "outputs": []
    },
    {
      "cell_type": "code",
      "source": [
        "#Adding Dublin regions that are related to data address\n",
        "Address_Region= {'Blessington Street': 'D7',\n",
        "       'Bolton Street': 'D1',\n",
        "       'Greek Street': 'D7',\n",
        "       'Charlemont Street': 'D2',\n",
        "       'Christchurch Place':'D8',\n",
        "       'High Street':'D8',\n",
        "       'Custom House Quay': 'D1',\n",
        "       'Exchequer Street':'D2',\n",
        "       'Dame Street':'D2',\n",
        "       'Earlsfort Terrace':'D2',\n",
        "       'Eccles Street':'D7',\n",
        "       'Fitzwilliam Square West':'D2',\n",
        "       'Hardwicke Street':'D1', \n",
        "       'Georges Quay':'D2',\n",
        "       'Golden Lane':'D8',\n",
        "       'Grantham Street':'D8',\n",
        "       'Herbert Place':'D2',\n",
        "       'Leinster Street South':'D2',\n",
        "       'Townsend Street': 'D2',\n",
        "       'Custom House':'D1',\n",
        "       'Cathal Brugha Street': 'D1',\n",
        "       'Merrion Square East': 'D2', \n",
        "       'Merrion Square West': 'D2', \n",
        "       'Molesworth Street': 'D2',\n",
        "       'Mountjoy Square West': 'D1',\n",
        "       'Ormond Quay Upper': 'D7',\n",
        "       'Parnell Square North':'D1',\n",
        "       'Parnell Street': 'D1',\n",
        "       'Pearse Street':'D2',\n",
        "       \"Princes Street / O'Connell Street\":'D2',\n",
        "       'Portobello Harbour':'D8',\n",
        "       \"St. Stephen's Green East\": 'D2',\n",
        "       \"St. Stephen's Green South\": 'D2',\n",
        "       'Talbot Street':'D1',\n",
        "       'Wilton Terrace':'D2',\n",
        "       'Jervis Street':'D1',\n",
        "       'Harcourt Terrace':'D2',\n",
        "       'Smithfield North':'D7',\n",
        "       'Portobello Road':'D8',\n",
        "       'Upper Sherrard Street':'D1',              \n",
        "       'Deverell Place':'D1',\n",
        "       'Herbert Street':'D2',\n",
        "       'Excise Walk':'D1',\n",
        "       'Guild Street':'D1',\n",
        "       \"George's Lane\":'D7',\n",
        "       'York Street West':'D2',       \n",
        "       'York Street East':'D2',\n",
        "       'Newman House':'D2',\n",
        "       'Clonmel Street':'D2',\n",
        "       'Hatch Street':'D2',\n",
        "       'Mount Street Lower':'D2',\n",
        "       'Grattan Street':'D2',\n",
        "       \"Sir Patrick's Dun\":'D2',\n",
        "       'Denmark Street Great':'D1',\n",
        "       'North Circular Road':'D1',\n",
        "       'Hardwicke Place':'D1',\n",
        "       'Lime Street':'D2',\n",
        "       'Fenian Street':'D2',\n",
        "       'Sandwith Street':'D2',\n",
        "       'Convention Centre':'D1',\n",
        "       'New Central Bank':'D1',\n",
        "       'The Point':'D3',\n",
        "       'Hanover Quay':'D2',\n",
        "       'Grand Canal Dock':'D2',\n",
        "       'Kevin Street':'D8',\n",
        "       'John Street West':'D8', \n",
        "       'Francis Street':'D8', \n",
        "       'Oliver Bond Street':'D8',\n",
        "       'James Street':'D8',\n",
        "       'Market Street South':'D2',\n",
        "       'Wolfe Tone Street':'D1',\n",
        "       'Mater Hospital':'D1',\n",
        "       'Eccles Street East':'D7',\n",
        "       'St James Hospital (Luas)':'D8',\n",
        "       'Mount Brown':'D8',\n",
        "       'Emmet Road':'D8', \n",
        "       'Brookfield Road':'D8',\n",
        "       'Rothe Abbey':'D8',\n",
        "       'Parkgate Street':'D8',\n",
        "       'Collins Barracks Museum':'D7',\n",
        "       'Blackhall Place':'D7',\n",
        "       'Fitzwilliam Square East':'D2',\n",
        "       'Benson Street':'D2',\n",
        "       'South Dock Road':'D4',\n",
        "       'Heuston Bridge (North)':'D8',\n",
        "       'Heuston Station (Central)':'D8',\n",
        "       'Heuston Station (Car Park)':'D8', \n",
        "       'Royal Hospital':'D4', \n",
        "       'Kilmainham Lane':'D8',\n",
        "       'Kilmainham Gaol':'D8', \n",
        "       'Frederick Street South':'D2',\n",
        "       'City Quay':'D2',\n",
        "       'Heuston Bridge (South)':'D8',\n",
        "       'King Street North':'D7',\n",
        "       'Western Way':'D7',\n",
        "       'Grangegorman Lower (South)':'D7',\n",
        "       'Grangegorman Lower (Central)':'D7',\n",
        "       'Grangegorman Lower (North)':'D7',\n",
        "       'Rathdown Road':'D7',\n",
        "       'Charleville Road':'D6',\n",
        "       'Avondale Road':'D7',\n",
        "       'Buckingham Street Lower':'D1', \n",
        "       'Phibsborough Road':'D7',\n",
        "       'Mountjoy Square East':'D1',\n",
        "       \"North Circular Road (O'Connell's)\":'D1',\n",
        "       'Merrion Square South':'D2',\n",
        "       'Wilton Terrace (Park)':'D2',\n",
        "       'Killarney Street':'D1',\n",
        "       'Broadstone':'D7',\n",
        "       'Hanover Quay East':'D2'}\n",
        "\n",
        "df['REGION'] = df['ADDRESS'].map(Address_Region)"
      ],
      "metadata": {
        "id": "PMf8ahX9zynS"
      },
      "execution_count": null,
      "outputs": []
    },
    {
      "cell_type": "code",
      "source": [
        "#Testing if the chage above worked\n",
        "df.groupby('ADDRESS')[['REGION']].max()"
      ],
      "metadata": {
        "id": "MwJZ6lftKGd4",
        "colab": {
          "base_uri": "https://localhost:8080/",
          "height": 455
        },
        "outputId": "d11273a1-30dc-40a7-db40-2d91c3ff8053"
      },
      "execution_count": null,
      "outputs": [
        {
          "output_type": "execute_result",
          "data": {
            "text/plain": [
              "                      REGION\n",
              "ADDRESS                     \n",
              "Avondale Road             D7\n",
              "Benson Street             D2\n",
              "Blackhall Place           D7\n",
              "Blessington Street        D7\n",
              "Bolton Street             D1\n",
              "...                      ...\n",
              "Wilton Terrace            D2\n",
              "Wilton Terrace (Park)     D2\n",
              "Wolfe Tone Street         D1\n",
              "York Street East          D2\n",
              "York Street West          D2\n",
              "\n",
              "[109 rows x 1 columns]"
            ],
            "text/html": [
              "\n",
              "  <div id=\"df-320d1865-c706-498e-bf0a-387ffddfc1bb\">\n",
              "    <div class=\"colab-df-container\">\n",
              "      <div>\n",
              "<style scoped>\n",
              "    .dataframe tbody tr th:only-of-type {\n",
              "        vertical-align: middle;\n",
              "    }\n",
              "\n",
              "    .dataframe tbody tr th {\n",
              "        vertical-align: top;\n",
              "    }\n",
              "\n",
              "    .dataframe thead th {\n",
              "        text-align: right;\n",
              "    }\n",
              "</style>\n",
              "<table border=\"1\" class=\"dataframe\">\n",
              "  <thead>\n",
              "    <tr style=\"text-align: right;\">\n",
              "      <th></th>\n",
              "      <th>REGION</th>\n",
              "    </tr>\n",
              "    <tr>\n",
              "      <th>ADDRESS</th>\n",
              "      <th></th>\n",
              "    </tr>\n",
              "  </thead>\n",
              "  <tbody>\n",
              "    <tr>\n",
              "      <th>Avondale Road</th>\n",
              "      <td>D7</td>\n",
              "    </tr>\n",
              "    <tr>\n",
              "      <th>Benson Street</th>\n",
              "      <td>D2</td>\n",
              "    </tr>\n",
              "    <tr>\n",
              "      <th>Blackhall Place</th>\n",
              "      <td>D7</td>\n",
              "    </tr>\n",
              "    <tr>\n",
              "      <th>Blessington Street</th>\n",
              "      <td>D7</td>\n",
              "    </tr>\n",
              "    <tr>\n",
              "      <th>Bolton Street</th>\n",
              "      <td>D1</td>\n",
              "    </tr>\n",
              "    <tr>\n",
              "      <th>...</th>\n",
              "      <td>...</td>\n",
              "    </tr>\n",
              "    <tr>\n",
              "      <th>Wilton Terrace</th>\n",
              "      <td>D2</td>\n",
              "    </tr>\n",
              "    <tr>\n",
              "      <th>Wilton Terrace (Park)</th>\n",
              "      <td>D2</td>\n",
              "    </tr>\n",
              "    <tr>\n",
              "      <th>Wolfe Tone Street</th>\n",
              "      <td>D1</td>\n",
              "    </tr>\n",
              "    <tr>\n",
              "      <th>York Street East</th>\n",
              "      <td>D2</td>\n",
              "    </tr>\n",
              "    <tr>\n",
              "      <th>York Street West</th>\n",
              "      <td>D2</td>\n",
              "    </tr>\n",
              "  </tbody>\n",
              "</table>\n",
              "<p>109 rows × 1 columns</p>\n",
              "</div>\n",
              "      <button class=\"colab-df-convert\" onclick=\"convertToInteractive('df-320d1865-c706-498e-bf0a-387ffddfc1bb')\"\n",
              "              title=\"Convert this dataframe to an interactive table.\"\n",
              "              style=\"display:none;\">\n",
              "        \n",
              "  <svg xmlns=\"http://www.w3.org/2000/svg\" height=\"24px\"viewBox=\"0 0 24 24\"\n",
              "       width=\"24px\">\n",
              "    <path d=\"M0 0h24v24H0V0z\" fill=\"none\"/>\n",
              "    <path d=\"M18.56 5.44l.94 2.06.94-2.06 2.06-.94-2.06-.94-.94-2.06-.94 2.06-2.06.94zm-11 1L8.5 8.5l.94-2.06 2.06-.94-2.06-.94L8.5 2.5l-.94 2.06-2.06.94zm10 10l.94 2.06.94-2.06 2.06-.94-2.06-.94-.94-2.06-.94 2.06-2.06.94z\"/><path d=\"M17.41 7.96l-1.37-1.37c-.4-.4-.92-.59-1.43-.59-.52 0-1.04.2-1.43.59L10.3 9.45l-7.72 7.72c-.78.78-.78 2.05 0 2.83L4 21.41c.39.39.9.59 1.41.59.51 0 1.02-.2 1.41-.59l7.78-7.78 2.81-2.81c.8-.78.8-2.07 0-2.86zM5.41 20L4 18.59l7.72-7.72 1.47 1.35L5.41 20z\"/>\n",
              "  </svg>\n",
              "      </button>\n",
              "      \n",
              "  <style>\n",
              "    .colab-df-container {\n",
              "      display:flex;\n",
              "      flex-wrap:wrap;\n",
              "      gap: 12px;\n",
              "    }\n",
              "\n",
              "    .colab-df-convert {\n",
              "      background-color: #E8F0FE;\n",
              "      border: none;\n",
              "      border-radius: 50%;\n",
              "      cursor: pointer;\n",
              "      display: none;\n",
              "      fill: #1967D2;\n",
              "      height: 32px;\n",
              "      padding: 0 0 0 0;\n",
              "      width: 32px;\n",
              "    }\n",
              "\n",
              "    .colab-df-convert:hover {\n",
              "      background-color: #E2EBFA;\n",
              "      box-shadow: 0px 1px 2px rgba(60, 64, 67, 0.3), 0px 1px 3px 1px rgba(60, 64, 67, 0.15);\n",
              "      fill: #174EA6;\n",
              "    }\n",
              "\n",
              "    [theme=dark] .colab-df-convert {\n",
              "      background-color: #3B4455;\n",
              "      fill: #D2E3FC;\n",
              "    }\n",
              "\n",
              "    [theme=dark] .colab-df-convert:hover {\n",
              "      background-color: #434B5C;\n",
              "      box-shadow: 0px 1px 3px 1px rgba(0, 0, 0, 0.15);\n",
              "      filter: drop-shadow(0px 1px 2px rgba(0, 0, 0, 0.3));\n",
              "      fill: #FFFFFF;\n",
              "    }\n",
              "  </style>\n",
              "\n",
              "      <script>\n",
              "        const buttonEl =\n",
              "          document.querySelector('#df-320d1865-c706-498e-bf0a-387ffddfc1bb button.colab-df-convert');\n",
              "        buttonEl.style.display =\n",
              "          google.colab.kernel.accessAllowed ? 'block' : 'none';\n",
              "\n",
              "        async function convertToInteractive(key) {\n",
              "          const element = document.querySelector('#df-320d1865-c706-498e-bf0a-387ffddfc1bb');\n",
              "          const dataTable =\n",
              "            await google.colab.kernel.invokeFunction('convertToInteractive',\n",
              "                                                     [key], {});\n",
              "          if (!dataTable) return;\n",
              "\n",
              "          const docLinkHtml = 'Like what you see? Visit the ' +\n",
              "            '<a target=\"_blank\" href=https://colab.research.google.com/notebooks/data_table.ipynb>data table notebook</a>'\n",
              "            + ' to learn more about interactive tables.';\n",
              "          element.innerHTML = '';\n",
              "          dataTable['output_type'] = 'display_data';\n",
              "          await google.colab.output.renderOutput(dataTable, element);\n",
              "          const docLink = document.createElement('div');\n",
              "          docLink.innerHTML = docLinkHtml;\n",
              "          element.appendChild(docLink);\n",
              "        }\n",
              "      </script>\n",
              "    </div>\n",
              "  </div>\n",
              "  "
            ]
          },
          "metadata": {},
          "execution_count": 7
        }
      ]
    },
    {
      "cell_type": "code",
      "source": [
        "#To calculate the number of Dublin Bikes per station, it was subtracted the 'Bike Stands' column with 'Available Bike Stands columns'\n",
        "df['BIKES AVAILABLE'] = df['BIKE STANDS']-df['AVAILABLE BIKE STANDS']"
      ],
      "metadata": {
        "id": "sl8FHSj-ZUPx"
      },
      "execution_count": null,
      "outputs": []
    },
    {
      "cell_type": "code",
      "source": [
        "#It was splitted Time and Date in two columns\n",
        "df[['DATE','TIME']] = df['TIME'].str.split(' ', 1, expand=True)\n"
      ],
      "metadata": {
        "id": "18GAKb2CQKJS"
      },
      "execution_count": null,
      "outputs": []
    },
    {
      "cell_type": "code",
      "source": [
        "df['DATE'] = pd.to_datetime(df['DATE'])"
      ],
      "metadata": {
        "id": "BqzDd_wXcZyC"
      },
      "execution_count": null,
      "outputs": []
    },
    {
      "cell_type": "code",
      "source": [
        "df['TIME'] = pd.to_datetime(df['TIME'],format= '%H:%M' ).dt.time"
      ],
      "metadata": {
        "id": "CIyE3HlneATh"
      },
      "execution_count": null,
      "outputs": []
    },
    {
      "cell_type": "code",
      "source": [
        "df['DAY OF THE WEEK'] = df['DATE'].dt.day_name()"
      ],
      "metadata": {
        "id": "4s4kOLDVekrW"
      },
      "execution_count": null,
      "outputs": []
    },
    {
      "cell_type": "code",
      "source": [
        "#Reindexing columns\n",
        "df = df.reindex(columns=['DATE', 'DAY OF THE WEEK','TIME', 'BIKE STANDS', 'BIKES AVAILABLE', 'AVAILABLE BIKE STANDS', 'STATUS', 'ADDRESS', 'REGION', 'LAST UPDATED']) \n"
      ],
      "metadata": {
        "id": "iyUQdZE-R2TZ"
      },
      "execution_count": null,
      "outputs": []
    },
    {
      "cell_type": "code",
      "source": [
        "df.head()"
      ],
      "metadata": {
        "id": "YWmjgyMqN6KZ",
        "colab": {
          "base_uri": "https://localhost:8080/",
          "height": 206
        },
        "outputId": "9012aefe-4b0e-4111-db1f-ef8afb792f61"
      },
      "execution_count": null,
      "outputs": [
        {
          "output_type": "execute_result",
          "data": {
            "text/plain": [
              "        DATE DAY OF THE WEEK      TIME  BIKE STANDS  BIKES AVAILABLE  \\\n",
              "0 2021-01-07        Thursday  00:00:00         20.0              5.0   \n",
              "1 2021-01-07        Thursday  00:05:00         20.0              5.0   \n",
              "2 2021-01-07        Thursday  00:10:00         20.0              5.0   \n",
              "3 2021-01-07        Thursday  00:15:00         20.0              5.0   \n",
              "4 2021-01-07        Thursday  00:20:00         20.0              5.0   \n",
              "\n",
              "   AVAILABLE BIKE STANDS STATUS             ADDRESS REGION      LAST UPDATED  \n",
              "0                   15.0   Open  Blessington Street     D7  30/06/2021 23:50  \n",
              "1                   15.0   Open  Blessington Street     D7  01/07/2021 00:00  \n",
              "2                   15.0   Open  Blessington Street     D7  01/07/2021 00:00  \n",
              "3                   15.0   Open  Blessington Street     D7  01/07/2021 00:10  \n",
              "4                   15.0   Open  Blessington Street     D7  01/07/2021 00:10  "
            ],
            "text/html": [
              "\n",
              "  <div id=\"df-3cbb5148-6b3b-4dd9-ba68-62f7fdd28cd2\">\n",
              "    <div class=\"colab-df-container\">\n",
              "      <div>\n",
              "<style scoped>\n",
              "    .dataframe tbody tr th:only-of-type {\n",
              "        vertical-align: middle;\n",
              "    }\n",
              "\n",
              "    .dataframe tbody tr th {\n",
              "        vertical-align: top;\n",
              "    }\n",
              "\n",
              "    .dataframe thead th {\n",
              "        text-align: right;\n",
              "    }\n",
              "</style>\n",
              "<table border=\"1\" class=\"dataframe\">\n",
              "  <thead>\n",
              "    <tr style=\"text-align: right;\">\n",
              "      <th></th>\n",
              "      <th>DATE</th>\n",
              "      <th>DAY OF THE WEEK</th>\n",
              "      <th>TIME</th>\n",
              "      <th>BIKE STANDS</th>\n",
              "      <th>BIKES AVAILABLE</th>\n",
              "      <th>AVAILABLE BIKE STANDS</th>\n",
              "      <th>STATUS</th>\n",
              "      <th>ADDRESS</th>\n",
              "      <th>REGION</th>\n",
              "      <th>LAST UPDATED</th>\n",
              "    </tr>\n",
              "  </thead>\n",
              "  <tbody>\n",
              "    <tr>\n",
              "      <th>0</th>\n",
              "      <td>2021-01-07</td>\n",
              "      <td>Thursday</td>\n",
              "      <td>00:00:00</td>\n",
              "      <td>20.0</td>\n",
              "      <td>5.0</td>\n",
              "      <td>15.0</td>\n",
              "      <td>Open</td>\n",
              "      <td>Blessington Street</td>\n",
              "      <td>D7</td>\n",
              "      <td>30/06/2021 23:50</td>\n",
              "    </tr>\n",
              "    <tr>\n",
              "      <th>1</th>\n",
              "      <td>2021-01-07</td>\n",
              "      <td>Thursday</td>\n",
              "      <td>00:05:00</td>\n",
              "      <td>20.0</td>\n",
              "      <td>5.0</td>\n",
              "      <td>15.0</td>\n",
              "      <td>Open</td>\n",
              "      <td>Blessington Street</td>\n",
              "      <td>D7</td>\n",
              "      <td>01/07/2021 00:00</td>\n",
              "    </tr>\n",
              "    <tr>\n",
              "      <th>2</th>\n",
              "      <td>2021-01-07</td>\n",
              "      <td>Thursday</td>\n",
              "      <td>00:10:00</td>\n",
              "      <td>20.0</td>\n",
              "      <td>5.0</td>\n",
              "      <td>15.0</td>\n",
              "      <td>Open</td>\n",
              "      <td>Blessington Street</td>\n",
              "      <td>D7</td>\n",
              "      <td>01/07/2021 00:00</td>\n",
              "    </tr>\n",
              "    <tr>\n",
              "      <th>3</th>\n",
              "      <td>2021-01-07</td>\n",
              "      <td>Thursday</td>\n",
              "      <td>00:15:00</td>\n",
              "      <td>20.0</td>\n",
              "      <td>5.0</td>\n",
              "      <td>15.0</td>\n",
              "      <td>Open</td>\n",
              "      <td>Blessington Street</td>\n",
              "      <td>D7</td>\n",
              "      <td>01/07/2021 00:10</td>\n",
              "    </tr>\n",
              "    <tr>\n",
              "      <th>4</th>\n",
              "      <td>2021-01-07</td>\n",
              "      <td>Thursday</td>\n",
              "      <td>00:20:00</td>\n",
              "      <td>20.0</td>\n",
              "      <td>5.0</td>\n",
              "      <td>15.0</td>\n",
              "      <td>Open</td>\n",
              "      <td>Blessington Street</td>\n",
              "      <td>D7</td>\n",
              "      <td>01/07/2021 00:10</td>\n",
              "    </tr>\n",
              "  </tbody>\n",
              "</table>\n",
              "</div>\n",
              "      <button class=\"colab-df-convert\" onclick=\"convertToInteractive('df-3cbb5148-6b3b-4dd9-ba68-62f7fdd28cd2')\"\n",
              "              title=\"Convert this dataframe to an interactive table.\"\n",
              "              style=\"display:none;\">\n",
              "        \n",
              "  <svg xmlns=\"http://www.w3.org/2000/svg\" height=\"24px\"viewBox=\"0 0 24 24\"\n",
              "       width=\"24px\">\n",
              "    <path d=\"M0 0h24v24H0V0z\" fill=\"none\"/>\n",
              "    <path d=\"M18.56 5.44l.94 2.06.94-2.06 2.06-.94-2.06-.94-.94-2.06-.94 2.06-2.06.94zm-11 1L8.5 8.5l.94-2.06 2.06-.94-2.06-.94L8.5 2.5l-.94 2.06-2.06.94zm10 10l.94 2.06.94-2.06 2.06-.94-2.06-.94-.94-2.06-.94 2.06-2.06.94z\"/><path d=\"M17.41 7.96l-1.37-1.37c-.4-.4-.92-.59-1.43-.59-.52 0-1.04.2-1.43.59L10.3 9.45l-7.72 7.72c-.78.78-.78 2.05 0 2.83L4 21.41c.39.39.9.59 1.41.59.51 0 1.02-.2 1.41-.59l7.78-7.78 2.81-2.81c.8-.78.8-2.07 0-2.86zM5.41 20L4 18.59l7.72-7.72 1.47 1.35L5.41 20z\"/>\n",
              "  </svg>\n",
              "      </button>\n",
              "      \n",
              "  <style>\n",
              "    .colab-df-container {\n",
              "      display:flex;\n",
              "      flex-wrap:wrap;\n",
              "      gap: 12px;\n",
              "    }\n",
              "\n",
              "    .colab-df-convert {\n",
              "      background-color: #E8F0FE;\n",
              "      border: none;\n",
              "      border-radius: 50%;\n",
              "      cursor: pointer;\n",
              "      display: none;\n",
              "      fill: #1967D2;\n",
              "      height: 32px;\n",
              "      padding: 0 0 0 0;\n",
              "      width: 32px;\n",
              "    }\n",
              "\n",
              "    .colab-df-convert:hover {\n",
              "      background-color: #E2EBFA;\n",
              "      box-shadow: 0px 1px 2px rgba(60, 64, 67, 0.3), 0px 1px 3px 1px rgba(60, 64, 67, 0.15);\n",
              "      fill: #174EA6;\n",
              "    }\n",
              "\n",
              "    [theme=dark] .colab-df-convert {\n",
              "      background-color: #3B4455;\n",
              "      fill: #D2E3FC;\n",
              "    }\n",
              "\n",
              "    [theme=dark] .colab-df-convert:hover {\n",
              "      background-color: #434B5C;\n",
              "      box-shadow: 0px 1px 3px 1px rgba(0, 0, 0, 0.15);\n",
              "      filter: drop-shadow(0px 1px 2px rgba(0, 0, 0, 0.3));\n",
              "      fill: #FFFFFF;\n",
              "    }\n",
              "  </style>\n",
              "\n",
              "      <script>\n",
              "        const buttonEl =\n",
              "          document.querySelector('#df-3cbb5148-6b3b-4dd9-ba68-62f7fdd28cd2 button.colab-df-convert');\n",
              "        buttonEl.style.display =\n",
              "          google.colab.kernel.accessAllowed ? 'block' : 'none';\n",
              "\n",
              "        async function convertToInteractive(key) {\n",
              "          const element = document.querySelector('#df-3cbb5148-6b3b-4dd9-ba68-62f7fdd28cd2');\n",
              "          const dataTable =\n",
              "            await google.colab.kernel.invokeFunction('convertToInteractive',\n",
              "                                                     [key], {});\n",
              "          if (!dataTable) return;\n",
              "\n",
              "          const docLinkHtml = 'Like what you see? Visit the ' +\n",
              "            '<a target=\"_blank\" href=https://colab.research.google.com/notebooks/data_table.ipynb>data table notebook</a>'\n",
              "            + ' to learn more about interactive tables.';\n",
              "          element.innerHTML = '';\n",
              "          dataTable['output_type'] = 'display_data';\n",
              "          await google.colab.output.renderOutput(dataTable, element);\n",
              "          const docLink = document.createElement('div');\n",
              "          docLink.innerHTML = docLinkHtml;\n",
              "          element.appendChild(docLink);\n",
              "        }\n",
              "      </script>\n",
              "    </div>\n",
              "  </div>\n",
              "  "
            ]
          },
          "metadata": {},
          "execution_count": 14
        }
      ]
    },
    {
      "cell_type": "markdown",
      "source": [
        "Second section: Availability per Location of Dublin Bikes"
      ],
      "metadata": {
        "id": "yDApHPS9W93F"
      }
    },
    {
      "cell_type": "code",
      "source": [
        "avaliablity_mean = df.groupby('REGION')[['BIKES AVAILABLE']].mean()\n",
        "\n",
        "print(avaliablity_mean.head())\n",
        "\n",
        "avaliablity_mean.plot(kind=\"barh\", fontsize=20, figsize=(8, 8)) #Mean of the bikes availables in Dublin\n"
      ],
      "metadata": {
        "id": "w6PGVZpYXULv",
        "colab": {
          "base_uri": "https://localhost:8080/",
          "height": 631
        },
        "outputId": "c92987fc-895f-4adf-803b-61f6bef9734f"
      },
      "execution_count": null,
      "outputs": [
        {
          "output_type": "stream",
          "name": "stdout",
          "text": [
            "        BIKES AVAILABLE\n",
            "REGION                 \n",
            "D1            13.618481\n",
            "D2            11.088505\n",
            "D3            15.371756\n",
            "D4            16.666627\n",
            "D6            12.754432\n"
          ]
        },
        {
          "output_type": "execute_result",
          "data": {
            "text/plain": [
              "<matplotlib.axes._subplots.AxesSubplot at 0x7ff1ae935040>"
            ]
          },
          "metadata": {},
          "execution_count": 15
        },
        {
          "output_type": "display_data",
          "data": {
            "text/plain": [
              "<Figure size 576x576 with 1 Axes>"
            ],
            "image/png": "[encoded data removed]"
          },
          "metadata": {
            "needs_background": "light"
          }
        }
      ]
    },
    {
      "cell_type": "code",
      "source": [
        "mode_avaliability = df.groupby('REGION')[['BIKES AVAILABLE']].agg(pd.Series.mode)# Frequency of bike available per region\n",
        "\n",
        "print(mode_avaliability)\n",
        "\n",
        "mode_avaliability.plot(kind=\"barh\", fontsize=20, figsize=(8, 8))"
      ],
      "metadata": {
        "id": "3PIBU3JDWZWM",
        "colab": {
          "base_uri": "https://localhost:8080/",
          "height": 666
        },
        "outputId": "1c3aac67-2703-434e-fb9f-ba1bcec697b1"
      },
      "execution_count": null,
      "outputs": [
        {
          "output_type": "stream",
          "name": "stdout",
          "text": [
            "        BIKES AVAILABLE\n",
            "REGION                 \n",
            "D1                 14.0\n",
            "D2                  0.0\n",
            "D3                 10.0\n",
            "D4                 14.0\n",
            "D6                 12.0\n",
            "D7                  8.0\n",
            "D8                 13.0\n"
          ]
        },
        {
          "output_type": "execute_result",
          "data": {
            "text/plain": [
              "<matplotlib.axes._subplots.AxesSubplot at 0x7ff1aea01ac0>"
            ]
          },
          "metadata": {},
          "execution_count": 16
        },
        {
          "output_type": "display_data",
          "data": {
            "text/plain": [
              "<Figure size 576x576 with 1 Axes>"
            ],
            "image/png": "[encoded data removed]"
          },
          "metadata": {
            "needs_background": "light"
          }
        }
      ]
    },
    {
      "cell_type": "code",
      "source": [
        "dfana = df[['REGION','BIKES AVAILABLE']] #Graphic below shows distribution of Dublin Bikes availables per region \n",
        "print(dfana)\n",
        "\n",
        "dfana.hist(bins=50, figsize=(8, 8))\n"
      ],
      "metadata": {
        "id": "BLkEeXZ4ZC8J",
        "colab": {
          "base_uri": "https://localhost:8080/",
          "height": 777
        },
        "outputId": "40f2eb7c-f686-4c74-ae68-d537d4e8e541"
      },
      "execution_count": null,
      "outputs": [
        {
          "output_type": "stream",
          "name": "stdout",
          "text": [
            "       REGION  BIKES AVAILABLE\n",
            "0          D7              5.0\n",
            "1          D7              5.0\n",
            "2          D7              5.0\n",
            "3          D7              5.0\n",
            "4          D7              5.0\n",
            "...       ...              ...\n",
            "922312     D2              2.0\n",
            "922313     D2              2.0\n",
            "922314     D2              2.0\n",
            "922315     D2              2.0\n",
            "922316     D2              2.0\n",
            "\n",
            "[922317 rows x 2 columns]\n"
          ]
        },
        {
          "output_type": "execute_result",
          "data": {
            "text/plain": [
              "array([[<matplotlib.axes._subplots.AxesSubplot object at 0x7ff1aeba5e50>]],\n",
              "      dtype=object)"
            ]
          },
          "metadata": {},
          "execution_count": 18
        },
        {
          "output_type": "display_data",
          "data": {
            "text/plain": [
              "<Figure size 576x576 with 1 Axes>"
            ],
            "image/png": "[encoded data removed]"
          },
          "metadata": {
            "needs_background": "light"
          }
        }
      ]
    },
    {
      "cell_type": "markdown",
      "source": [
        "Third section: Number of stations per regions"
      ],
      "metadata": {
        "id": "-_qhahk-SyOp"
      }
    },
    {
      "cell_type": "code",
      "source": [
        "#Graphic below represents quantity of Dublin Bike stations available per region\n",
        "df_region_address = df[['REGION','ADDRESS']] #Created new dataset with the columns region per address\n",
        "#The pie chart below is to represent number of address groupby regions. We use \"nunique\" function to count the unique values\n",
        "df_region_address.groupby('REGION')['ADDRESS'].nunique().plot.pie(y='REGION', figsize=(8, 8), fontsize=15) "
      ],
      "metadata": {
        "id": "P6thLNfWFaH_",
        "colab": {
          "base_uri": "https://localhost:8080/",
          "height": 483
        },
        "outputId": "89c47cd9-fd72-4b1d-a6c9-5b603adcac4e"
      },
      "execution_count": null,
      "outputs": [
        {
          "output_type": "execute_result",
          "data": {
            "text/plain": [
              "<matplotlib.axes._subplots.AxesSubplot at 0x7ff1aed206d0>"
            ]
          },
          "metadata": {},
          "execution_count": 19
        },
        {
          "output_type": "display_data",
          "data": {
            "text/plain": [
              "<Figure size 576x576 with 1 Axes>"
            ],
            "image/png": "[encoded data removed]"
          },
          "metadata": {}
        }
      ]
    },
    {
      "cell_type": "markdown",
      "source": [
        "Fourth section: Relationship between date time and availability of Dublin Bikes"
      ],
      "metadata": {
        "id": "cuwFzbmfS-iu"
      }
    },
    {
      "cell_type": "code",
      "source": [
        "df['DATE'].unique()"
      ],
      "metadata": {
        "id": "3ggO9Gvf_VS8"
      },
      "execution_count": null,
      "outputs": []
    },
    {
      "cell_type": "code",
      "source": [
        "df['TIME'].unique()"
      ],
      "metadata": {
        "id": "U8I9v5Oc_pFd"
      },
      "execution_count": null,
      "outputs": []
    },
    {
      "cell_type": "code",
      "source": [
        "zoom.set_index('Date', inplace=True)"
      ],
      "metadata": {
        "id": "J1jB195JXWsF"
      },
      "execution_count": null,
      "outputs": []
    },
    {
      "cell_type": "code",
      "source": [
        "df['BIKES AVAILABLE'].unique()"
      ],
      "metadata": {
        "id": "p2wN13B7fCyZ"
      },
      "execution_count": null,
      "outputs": []
    },
    {
      "cell_type": "code",
      "source": [
        "#We will cross over time in a day and availability\n",
        "#First we need to make sure that 'TIME' is converted from string to time.\n",
        "%matplotlib inline\n",
        "df1=df[['TIME','BIKES AVAILABLE']]\n",
        "df1.set_index('TIME', inplace=True) \n",
        "groups = df1.groupby(['TIME']).mean()\n",
        "print(groups.head())\n",
        "groups['BIKES AVAILABLE'].plot.line(figsize=(8, 8))\n"
      ],
      "metadata": {
        "id": "rB9hk8f4Uua4",
        "colab": {
          "base_uri": "https://localhost:8080/",
          "height": 636
        },
        "outputId": "a56a93ae-4639-4d9b-8ea4-9c200950143b"
      },
      "execution_count": null,
      "outputs": [
        {
          "output_type": "stream",
          "name": "stdout",
          "text": [
            "          BIKES AVAILABLE\n",
            "TIME                     \n",
            "00:00:00        12.590318\n",
            "00:05:00        12.597935\n",
            "00:10:00        12.616413\n",
            "00:15:00        12.625608\n",
            "00:20:00        12.630170\n"
          ]
        },
        {
          "output_type": "execute_result",
          "data": {
            "text/plain": [
              "<matplotlib.axes._subplots.AxesSubplot at 0x7ff1aed24b50>"
            ]
          },
          "metadata": {},
          "execution_count": 20
        },
        {
          "output_type": "display_data",
          "data": {
            "text/plain": [
              "<Figure size 576x576 with 1 Axes>"
            ],
            "image/png": "[encoded data removed]"
          },
          "metadata": {
            "needs_background": "light"
          }
        }
      ]
    },
    {
      "cell_type": "code",
      "source": [
        "#We will cross over time in a day and availability\n",
        "#First we need to make sure that 'DATE' is converted from string to time.\n",
        "%matplotlib inline\n",
        "df1=df[['DATE','BIKES AVAILABLE']]\n",
        "df1.set_index('DATE', inplace=True)\n",
        "groups = df1.groupby(['DATE']).mean()\n",
        "print(groups.head())\n",
        "groups['BIKES AVAILABLE'].plot.line(figsize=(8, 8))\n"
      ],
      "metadata": {
        "colab": {
          "base_uri": "https://localhost:8080/",
          "height": 612
        },
        "id": "Li3tRK0DYHqN",
        "outputId": "0bcdcbd6-07aa-4dfa-babf-e45bb1fe4525"
      },
      "execution_count": null,
      "outputs": [
        {
          "output_type": "stream",
          "name": "stdout",
          "text": [
            "            BIKES AVAILABLE\n",
            "DATE                       \n",
            "2021-01-07        12.064093\n",
            "2021-02-07        12.121177\n",
            "2021-03-07        12.343814\n",
            "2021-04-07        12.404116\n",
            "2021-05-07        12.093431\n"
          ]
        },
        {
          "output_type": "execute_result",
          "data": {
            "text/plain": [
              "<matplotlib.axes._subplots.AxesSubplot at 0x7ff1aedd0fa0>"
            ]
          },
          "metadata": {},
          "execution_count": 21
        },
        {
          "output_type": "display_data",
          "data": {
            "text/plain": [
              "<Figure size 576x576 with 1 Axes>"
            ],
            "image/png": "[encoded data removed]"
          },
          "metadata": {
            "needs_background": "light"
          }
        }
      ]
    },
    {
      "cell_type": "code",
      "source": [
        "#We will cross over time in a day and availability\n",
        "#First we need to make sure that 'DATE' is converted from string to time.\n",
        "%matplotlib inline\n",
        "df1=df[['DAY OF THE WEEK','BIKES AVAILABLE']]\n",
        "df1.set_index('DAY OF THE WEEK', inplace=True)\n",
        "groups = df1.groupby(['DAY OF THE WEEK']).mean()\n",
        "groups = groups.reindex([\"Monday\",'Tuesday','Wednesday','Thursday','Friday','Saturday', 'Sunday'])\n",
        "print(groups.head())\n",
        "groups['BIKES AVAILABLE'].plot.line(figsize=(8, 8))"
      ],
      "metadata": {
        "colab": {
          "base_uri": "https://localhost:8080/",
          "height": 636
        },
        "id": "vf4djMp_fgXj",
        "outputId": "8de63cf9-4006-4efe-8436-2b93113bbdf5"
      },
      "execution_count": null,
      "outputs": [
        {
          "output_type": "stream",
          "name": "stdout",
          "text": [
            "                 BIKES AVAILABLE\n",
            "DAY OF THE WEEK                 \n",
            "Monday                 12.215376\n",
            "Tuesday                12.184093\n",
            "Wednesday              12.191858\n",
            "Thursday               12.118361\n",
            "Friday                 12.126035\n"
          ]
        },
        {
          "output_type": "execute_result",
          "data": {
            "text/plain": [
              "<matplotlib.axes._subplots.AxesSubplot at 0x7fd789b73a00>"
            ]
          },
          "metadata": {},
          "execution_count": 32
        },
        {
          "output_type": "display_data",
          "data": {
            "text/plain": [
              "<Figure size 576x576 with 1 Axes>"
            ],
            "image/png": "[encoded data removed]"
          },
          "metadata": {
            "needs_background": "light"
          }
        }
      ]
    },
    {
      "cell_type": "markdown",
      "source": [
        "Fifth Section: Regression"
      ],
      "metadata": {
        "id": "xxi2HJNjhJrj"
      }
    },
    {
      "cell_type": "code",
      "source": [
        "import statsmodels.api as sm\n",
        "from sklearn.preprocessing import LabelEncoder\n",
        "\n",
        "le = LabelEncoder()\n",
        "\n",
        "#transform time in linux time(long) transform string into LabelEncoder and use prediction on bikes avalailable\n",
        "\n",
        "df_day_time_avaliability = df[['REGION','DAY OF THE WEEK','TIME','BIKES AVAILABLE']]\n",
        "\n",
        "searchData = df_day_time_avaliability[['TIME', 'DAY OF THE WEEK', 'REGION']]\n",
        "\n",
        "df_day_time_avaliability.iloc[:, 0:3]  = df_day_time_avaliability.iloc[:, 0:3].apply(le.fit_transform)\n",
        "\n",
        "print(df_day_time_avaliability['DAY OF THE WEEK'].corr(df_day_time_avaliability['BIKES AVAILABLE']))\n",
        "\n",
        "print(df_day_time_avaliability['REGION'].corr(df_day_time_avaliability['BIKES AVAILABLE']))\n",
        "\n",
        "X = df_day_time_avaliability[['TIME', 'DAY OF THE WEEK', 'REGION']]\n",
        "y = df['BIKES AVAILABLE']\n",
        "\n",
        "est = sm.OLS(y, X).fit()\n",
        "\n",
        "est.summary()\n",
        "\n",
        "search = ['D3', 'Monday', '23:00']\n",
        "\n",
        "search_label= le.fit_transform(search)\n",
        "\n",
        "print(search_label)\n",
        "\n"
      ],
      "metadata": {
        "id": "WYWLRGIXhCAI",
        "outputId": "84b9ec41-a49f-4fe4-c9b2-96a90d8194cc",
        "colab": {
          "base_uri": "https://localhost:8080/"
        }
      },
      "execution_count": null,
      "outputs": [
        {
          "output_type": "stream",
          "name": "stderr",
          "text": [
            "/usr/local/lib/python3.8/dist-packages/pandas/core/indexing.py:1851: SettingWithCopyWarning: \n",
            "A value is trying to be set on a copy of a slice from a DataFrame.\n",
            "Try using .loc[row_indexer,col_indexer] = value instead\n",
            "\n",
            "See the caveats in the documentation: https://pandas.pydata.org/pandas-docs/stable/user_guide/indexing.html#returning-a-view-versus-a-copy\n",
            "  self._setitem_single_column(loc, val, pi)\n"
          ]
        },
        {
          "output_type": "stream",
          "name": "stdout",
          "text": [
            "0.0003766495664637621\n",
            "-0.008889083512875479\n",
            "[1 2 0]\n"
          ]
        }
      ]
    },
    {
      "cell_type": "code",
      "source": [
        "import datetime\n",
        "toPredict = searchData.loc[(searchData['TIME'] == datetime.time(12, 00)) & (searchData['DAY OF THE WEEK'] == 'Monday' ) & (searchData['REGION'] == 'D1' )].head(1).index[0]\n",
        "print(toPredict)\n",
        "\n",
        "ypred=est.predict(X.loc[[toPredict]])\n",
        "\n",
        "print('Prediction on avaliable bikes: ',ypred)\n"
      ],
      "metadata": {
        "id": "nWBsLNfGXcja",
        "outputId": "e80c247e-6d5b-46c4-ed7a-f5010d87ce6b",
        "colab": {
          "base_uri": "https://localhost:8080/"
        }
      },
      "execution_count": null,
      "outputs": [
        {
          "output_type": "stream",
          "name": "stdout",
          "text": [
            "157392\n",
            "Prediction on avaliable bikes:  157392    5.822054\n",
            "dtype: float64\n"
          ]
        }
      ]
    },
    {
      "cell_type": "code",
      "source": [
        "import datetime\n",
        "toPredict = searchData.loc[(searchData['TIME'] == datetime.time(12, 00)) & (searchData['DAY OF THE WEEK'] == 'Monday' ) & (searchData['REGION'] == 'D2' )].head(1).index[0]\n",
        "print(toPredict)\n",
        "\n",
        "ypred=est.predict(X.loc[[toPredict]])\n",
        "\n",
        "print('Prediction on avaliable bikes: ',ypred)"
      ],
      "metadata": {
        "id": "kmKRl9TAZiI4",
        "outputId": "b0bf7d6e-1f21-4e0c-cb50-0b1f0eeeb333",
        "colab": {
          "base_uri": "https://localhost:8080/"
        }
      },
      "execution_count": null,
      "outputs": [
        {
          "output_type": "stream",
          "name": "stdout",
          "text": [
            "157968\n",
            "Prediction on avaliable bikes:  157968    6.502526\n",
            "dtype: float64\n"
          ]
        }
      ]
    }
  ]
}